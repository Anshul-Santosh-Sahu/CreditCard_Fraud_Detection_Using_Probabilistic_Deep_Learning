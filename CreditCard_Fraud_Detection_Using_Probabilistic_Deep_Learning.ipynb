{
  "nbformat": 4,
  "nbformat_minor": 0,
  "metadata": {
    "colab": {
      "provenance": []
    },
    "kernelspec": {
      "name": "python3",
      "display_name": "Python 3"
    },
    "language_info": {
      "name": "python"
    }
  },
  "cells": [
    {
      "cell_type": "markdown",
      "source": [
        "Q. Design and implement a solution for a suitable problem using Deep Learning (Probabilistic) models and techniques.\n",
        "The objective is to explore, analyze, and apply concepts Deep learning (Probabilistic) models  .\n",
        "You are expected to choose a problem of interest, such as classification, prediction, anomaly detection, or data generation and many more and solve it using 2-3 techniques. This may involve building models, training and testing them on appropriate datasets, and evaluating their performance."
      ],
      "metadata": {
        "id": "WQ4h-U8aYZeu"
      }
    },
    {
      "cell_type": "markdown",
      "source": [
        "##  Project Title - \"Fraud Detection Using Probabilistic Deep Learning Models\""
      ],
      "metadata": {
        "id": "5D5yGr3YYtTo"
      }
    },
    {
      "cell_type": "markdown",
      "source": [
        "## Problem Statement\n",
        "\n",
        "Detect fraudulent credit card transactions using deep learning models that can quantify prediction uncertainty and identify anomalies effectively."
      ],
      "metadata": {
        "id": "7F1v2Su9Y29v"
      }
    },
    {
      "cell_type": "markdown",
      "source": [
        "## Techniques Used\n",
        "\n",
        "1. Monte Carlo Dropout (MC Dropout) – for uncertainty-based classification\n",
        "\n",
        "2. Ensemble Neural Networks (Ensemble NN) – for robust probabilistic prediction\n",
        "\n",
        "3. Variational Autoencoder (VAE) – for anomaly detection using reconstruction error"
      ],
      "metadata": {
        "id": "uw1No5-xZcza"
      }
    },
    {
      "cell_type": "code",
      "execution_count": null,
      "metadata": {
        "colab": {
          "base_uri": "https://localhost:8080/"
        },
        "id": "iKfuB2giZJLv",
        "outputId": "afb63eea-1a04-41b8-c786-e647e164af56"
      },
      "outputs": [
        {
          "output_type": "stream",
          "name": "stdout",
          "text": [
            "Train shape: (113948, 30) Test shape: (28488, 30)\n"
          ]
        }
      ],
      "source": [
        "import pandas as pd\n",
        "from sklearn.model_selection import train_test_split\n",
        "from sklearn.preprocessing import StandardScaler\n",
        "from imblearn.over_sampling import SMOTE\n",
        "\n",
        "# Load dataset\n",
        "df = pd.read_csv(\"creditcard.csv\")\n",
        "\n",
        "# Drop rows with NaN values\n",
        "df = df.dropna()\n",
        "\n",
        "# Features and labels\n",
        "X = df.drop('Class', axis=1).values\n",
        "y = df['Class'].values\n",
        "\n",
        "# Feature scaling\n",
        "scaler = StandardScaler()\n",
        "X = scaler.fit_transform(X)\n",
        "\n",
        "# Handle imbalance using SMOTE\n",
        "from imblearn.over_sampling import SMOTE\n",
        "smote = SMOTE(random_state=42)\n",
        "X_res, y_res = smote.fit_resample(X, y)\n",
        "\n",
        "# Split dataset\n",
        "from sklearn.model_selection import train_test_split\n",
        "X_train, X_test, y_train, y_test = train_test_split(X_res, y_res, test_size=0.2, random_state=42)\n",
        "print(\"Train shape:\", X_train.shape, \"Test shape:\", X_test.shape)"
      ]
    },
    {
      "cell_type": "markdown",
      "source": [
        "## 1st technique - Monte Carlo Dropout (Approximate Bayesian Inference)"
      ],
      "metadata": {
        "id": "PjPaWLwuaWtX"
      }
    },
    {
      "cell_type": "code",
      "source": [
        "import tensorflow as tf\n",
        "from tensorflow.keras import layers, models\n",
        "import numpy as np\n",
        "\n",
        "# Define MC Dropout Model\n",
        "def build_mc_dropout_model(input_dim):\n",
        "    model = models.Sequential([\n",
        "        layers.Dense(64, activation='relu', input_shape=(input_dim,)),\n",
        "        layers.Dropout(0.5),\n",
        "        layers.Dense(32, activation='relu'),\n",
        "        layers.Dropout(0.5),\n",
        "        layers.Dense(1, activation='sigmoid')\n",
        "    ])\n",
        "    model.compile(optimizer='adam', loss='binary_crossentropy', metrics=['accuracy'])\n",
        "    return model\n",
        "\n",
        "# Train model\n",
        "mc_model = build_mc_dropout_model(X_train.shape[1])\n",
        "mc_model.fit(X_train, y_train, epochs=30, batch_size=64, validation_split=0.2)\n",
        "\n",
        "# MC Dropout prediction with uncertainty\n",
        "def mc_dropout_predict(model, X, T=50):\n",
        "    predictions = np.array([model(X, training=True) for _ in range(T)])\n",
        "    pred_mean = predictions.mean(axis=0)\n",
        "    pred_std = predictions.std(axis=0)\n",
        "    return pred_mean, pred_std\n",
        "\n",
        "pred_mean, pred_std = mc_dropout_predict(mc_model, X_test)\n",
        "\n",
        "# Example: show predictions with uncertainty\n",
        "for i in range(5):\n",
        "    print(f\"Predicted Probability: {pred_mean[i][0]:.4f}, Uncertainty: {pred_std[i][0]:.4f}\")"
      ],
      "metadata": {
        "colab": {
          "base_uri": "https://localhost:8080/"
        },
        "id": "ulHv8_bNZZ0z",
        "outputId": "2f2c4316-3063-4bee-ec19-a9733a72a837"
      },
      "execution_count": null,
      "outputs": [
        {
          "output_type": "stream",
          "name": "stdout",
          "text": [
            "Epoch 1/30\n"
          ]
        },
        {
          "output_type": "stream",
          "name": "stderr",
          "text": [
            "/usr/local/lib/python3.12/dist-packages/keras/src/layers/core/dense.py:93: UserWarning: Do not pass an `input_shape`/`input_dim` argument to a layer. When using Sequential models, prefer using an `Input(shape)` object as the first layer in the model instead.\n",
            "  super().__init__(activity_regularizer=activity_regularizer, **kwargs)\n"
          ]
        },
        {
          "output_type": "stream",
          "name": "stdout",
          "text": [
            "\u001b[1m1425/1425\u001b[0m \u001b[32m━━━━━━━━━━━━━━━━━━━━\u001b[0m\u001b[37m\u001b[0m \u001b[1m3s\u001b[0m 2ms/step - accuracy: 0.9128 - loss: 0.2094 - val_accuracy: 0.9956 - val_loss: 0.0213\n",
            "Epoch 2/30\n",
            "\u001b[1m1425/1425\u001b[0m \u001b[32m━━━━━━━━━━━━━━━━━━━━\u001b[0m\u001b[37m\u001b[0m \u001b[1m2s\u001b[0m 2ms/step - accuracy: 0.9927 - loss: 0.0305 - val_accuracy: 0.9990 - val_loss: 0.0071\n",
            "Epoch 3/30\n",
            "\u001b[1m1425/1425\u001b[0m \u001b[32m━━━━━━━━━━━━━━━━━━━━\u001b[0m\u001b[37m\u001b[0m \u001b[1m3s\u001b[0m 2ms/step - accuracy: 0.9973 - loss: 0.0144 - val_accuracy: 0.9994 - val_loss: 0.0048\n",
            "Epoch 4/30\n",
            "\u001b[1m1425/1425\u001b[0m \u001b[32m━━━━━━━━━━━━━━━━━━━━\u001b[0m\u001b[37m\u001b[0m \u001b[1m3s\u001b[0m 2ms/step - accuracy: 0.9982 - loss: 0.0102 - val_accuracy: 0.9996 - val_loss: 0.0042\n",
            "Epoch 5/30\n",
            "\u001b[1m1425/1425\u001b[0m \u001b[32m━━━━━━━━━━━━━━━━━━━━\u001b[0m\u001b[37m\u001b[0m \u001b[1m2s\u001b[0m 2ms/step - accuracy: 0.9986 - loss: 0.0081 - val_accuracy: 0.9994 - val_loss: 0.0033\n",
            "Epoch 6/30\n",
            "\u001b[1m1425/1425\u001b[0m \u001b[32m━━━━━━━━━━━━━━━━━━━━\u001b[0m\u001b[37m\u001b[0m \u001b[1m2s\u001b[0m 2ms/step - accuracy: 0.9987 - loss: 0.0067 - val_accuracy: 0.9996 - val_loss: 0.0039\n",
            "Epoch 7/30\n",
            "\u001b[1m1425/1425\u001b[0m \u001b[32m━━━━━━━━━━━━━━━━━━━━\u001b[0m\u001b[37m\u001b[0m \u001b[1m3s\u001b[0m 2ms/step - accuracy: 0.9990 - loss: 0.0067 - val_accuracy: 0.9996 - val_loss: 0.0023\n",
            "Epoch 8/30\n",
            "\u001b[1m1425/1425\u001b[0m \u001b[32m━━━━━━━━━━━━━━━━━━━━\u001b[0m\u001b[37m\u001b[0m \u001b[1m2s\u001b[0m 2ms/step - accuracy: 0.9988 - loss: 0.0065 - val_accuracy: 0.9996 - val_loss: 0.0026\n",
            "Epoch 9/30\n",
            "\u001b[1m1425/1425\u001b[0m \u001b[32m━━━━━━━━━━━━━━━━━━━━\u001b[0m\u001b[37m\u001b[0m \u001b[1m3s\u001b[0m 2ms/step - accuracy: 0.9990 - loss: 0.0054 - val_accuracy: 0.9996 - val_loss: 0.0024\n",
            "Epoch 10/30\n",
            "\u001b[1m1425/1425\u001b[0m \u001b[32m━━━━━━━━━━━━━━━━━━━━\u001b[0m\u001b[37m\u001b[0m \u001b[1m2s\u001b[0m 2ms/step - accuracy: 0.9989 - loss: 0.0054 - val_accuracy: 0.9996 - val_loss: 0.0024\n",
            "Epoch 11/30\n",
            "\u001b[1m1425/1425\u001b[0m \u001b[32m━━━━━━━━━━━━━━━━━━━━\u001b[0m\u001b[37m\u001b[0m \u001b[1m2s\u001b[0m 2ms/step - accuracy: 0.9989 - loss: 0.0051 - val_accuracy: 0.9996 - val_loss: 0.0024\n",
            "Epoch 12/30\n",
            "\u001b[1m1425/1425\u001b[0m \u001b[32m━━━━━━━━━━━━━━━━━━━━\u001b[0m\u001b[37m\u001b[0m \u001b[1m2s\u001b[0m 2ms/step - accuracy: 0.9986 - loss: 0.0071 - val_accuracy: 0.9996 - val_loss: 0.0024\n",
            "Epoch 13/30\n",
            "\u001b[1m1425/1425\u001b[0m \u001b[32m━━━━━━━━━━━━━━━━━━━━\u001b[0m\u001b[37m\u001b[0m \u001b[1m3s\u001b[0m 2ms/step - accuracy: 0.9993 - loss: 0.0042 - val_accuracy: 0.9996 - val_loss: 0.0023\n",
            "Epoch 14/30\n",
            "\u001b[1m1425/1425\u001b[0m \u001b[32m━━━━━━━━━━━━━━━━━━━━\u001b[0m\u001b[37m\u001b[0m \u001b[1m3s\u001b[0m 2ms/step - accuracy: 0.9990 - loss: 0.0056 - val_accuracy: 0.9996 - val_loss: 0.0023\n",
            "Epoch 15/30\n",
            "\u001b[1m1425/1425\u001b[0m \u001b[32m━━━━━━━━━━━━━━━━━━━━\u001b[0m\u001b[37m\u001b[0m \u001b[1m2s\u001b[0m 2ms/step - accuracy: 0.9993 - loss: 0.0033 - val_accuracy: 0.9996 - val_loss: 0.0029\n",
            "Epoch 16/30\n",
            "\u001b[1m1425/1425\u001b[0m \u001b[32m━━━━━━━━━━━━━━━━━━━━\u001b[0m\u001b[37m\u001b[0m \u001b[1m2s\u001b[0m 2ms/step - accuracy: 0.9992 - loss: 0.0041 - val_accuracy: 0.9996 - val_loss: 0.0021\n",
            "Epoch 17/30\n",
            "\u001b[1m1425/1425\u001b[0m \u001b[32m━━━━━━━━━━━━━━━━━━━━\u001b[0m\u001b[37m\u001b[0m \u001b[1m2s\u001b[0m 2ms/step - accuracy: 0.9992 - loss: 0.0048 - val_accuracy: 0.9996 - val_loss: 0.0027\n",
            "Epoch 18/30\n",
            "\u001b[1m1425/1425\u001b[0m \u001b[32m━━━━━━━━━━━━━━━━━━━━\u001b[0m\u001b[37m\u001b[0m \u001b[1m3s\u001b[0m 2ms/step - accuracy: 0.9990 - loss: 0.0051 - val_accuracy: 0.9996 - val_loss: 0.0026\n",
            "Epoch 19/30\n",
            "\u001b[1m1425/1425\u001b[0m \u001b[32m━━━━━━━━━━━━━━━━━━━━\u001b[0m\u001b[37m\u001b[0m \u001b[1m2s\u001b[0m 2ms/step - accuracy: 0.9993 - loss: 0.0039 - val_accuracy: 0.9996 - val_loss: 0.0025\n",
            "Epoch 20/30\n",
            "\u001b[1m1425/1425\u001b[0m \u001b[32m━━━━━━━━━━━━━━━━━━━━\u001b[0m\u001b[37m\u001b[0m \u001b[1m2s\u001b[0m 2ms/step - accuracy: 0.9990 - loss: 0.0054 - val_accuracy: 0.9997 - val_loss: 0.0029\n",
            "Epoch 21/30\n",
            "\u001b[1m1425/1425\u001b[0m \u001b[32m━━━━━━━━━━━━━━━━━━━━\u001b[0m\u001b[37m\u001b[0m \u001b[1m3s\u001b[0m 2ms/step - accuracy: 0.9993 - loss: 0.0034 - val_accuracy: 0.9996 - val_loss: 0.0028\n",
            "Epoch 22/30\n",
            "\u001b[1m1425/1425\u001b[0m \u001b[32m━━━━━━━━━━━━━━━━━━━━\u001b[0m\u001b[37m\u001b[0m \u001b[1m3s\u001b[0m 2ms/step - accuracy: 0.9993 - loss: 0.0042 - val_accuracy: 0.9996 - val_loss: 0.0028\n",
            "Epoch 23/30\n",
            "\u001b[1m1425/1425\u001b[0m \u001b[32m━━━━━━━━━━━━━━━━━━━━\u001b[0m\u001b[37m\u001b[0m \u001b[1m3s\u001b[0m 2ms/step - accuracy: 0.9993 - loss: 0.0041 - val_accuracy: 0.9996 - val_loss: 0.0024\n",
            "Epoch 24/30\n",
            "\u001b[1m1425/1425\u001b[0m \u001b[32m━━━━━━━━━━━━━━━━━━━━\u001b[0m\u001b[37m\u001b[0m \u001b[1m2s\u001b[0m 2ms/step - accuracy: 0.9993 - loss: 0.0038 - val_accuracy: 0.9996 - val_loss: 0.0023\n",
            "Epoch 25/30\n",
            "\u001b[1m1425/1425\u001b[0m \u001b[32m━━━━━━━━━━━━━━━━━━━━\u001b[0m\u001b[37m\u001b[0m \u001b[1m2s\u001b[0m 2ms/step - accuracy: 0.9994 - loss: 0.0030 - val_accuracy: 0.9996 - val_loss: 0.0031\n",
            "Epoch 26/30\n",
            "\u001b[1m1425/1425\u001b[0m \u001b[32m━━━━━━━━━━━━━━━━━━━━\u001b[0m\u001b[37m\u001b[0m \u001b[1m2s\u001b[0m 2ms/step - accuracy: 0.9995 - loss: 0.0036 - val_accuracy: 0.9996 - val_loss: 0.0022\n",
            "Epoch 27/30\n",
            "\u001b[1m1425/1425\u001b[0m \u001b[32m━━━━━━━━━━━━━━━━━━━━\u001b[0m\u001b[37m\u001b[0m \u001b[1m3s\u001b[0m 2ms/step - accuracy: 0.9994 - loss: 0.0032 - val_accuracy: 0.9997 - val_loss: 0.0023\n",
            "Epoch 28/30\n",
            "\u001b[1m1425/1425\u001b[0m \u001b[32m━━━━━━━━━━━━━━━━━━━━\u001b[0m\u001b[37m\u001b[0m \u001b[1m2s\u001b[0m 2ms/step - accuracy: 0.9992 - loss: 0.0050 - val_accuracy: 0.9997 - val_loss: 0.0029\n",
            "Epoch 29/30\n",
            "\u001b[1m1425/1425\u001b[0m \u001b[32m━━━━━━━━━━━━━━━━━━━━\u001b[0m\u001b[37m\u001b[0m \u001b[1m2s\u001b[0m 2ms/step - accuracy: 0.9994 - loss: 0.0038 - val_accuracy: 0.9996 - val_loss: 0.0023\n",
            "Epoch 30/30\n",
            "\u001b[1m1425/1425\u001b[0m \u001b[32m━━━━━━━━━━━━━━━━━━━━\u001b[0m\u001b[37m\u001b[0m \u001b[1m2s\u001b[0m 2ms/step - accuracy: 0.9992 - loss: 0.0043 - val_accuracy: 0.9996 - val_loss: 0.0020\n",
            "Predicted Probability: 1.0000, Uncertainty: 0.0002\n",
            "Predicted Probability: 0.9999, Uncertainty: 0.0002\n",
            "Predicted Probability: 0.9959, Uncertainty: 0.0058\n",
            "Predicted Probability: 0.9970, Uncertainty: 0.0035\n",
            "Predicted Probability: 0.0000, Uncertainty: 0.0000\n"
          ]
        }
      ]
    },
    {
      "cell_type": "markdown",
      "source": [
        "## 2nd technique - Probabilistic Neural Network using Ensemble Method"
      ],
      "metadata": {
        "id": "8wDWm0jNbYZc"
      }
    },
    {
      "cell_type": "code",
      "source": [
        "import tensorflow as tf\n",
        "from tensorflow.keras import layers, models\n",
        "import numpy as np\n",
        "\n",
        "# Function to build a standard neural network\n",
        "def build_nn(input_dim):\n",
        "    model = models.Sequential([\n",
        "        layers.Dense(64, activation='relu', input_shape=(input_dim,)),\n",
        "        layers.Dense(32, activation='relu'),\n",
        "        layers.Dense(1, activation='sigmoid')\n",
        "    ])\n",
        "    model.compile(optimizer='adam', loss='binary_crossentropy', metrics=['accuracy'])\n",
        "    return model\n",
        "\n",
        "# Train an ensemble of 5 neural networks\n",
        "ensemble_size = 5\n",
        "ensemble_models = []\n",
        "\n",
        "for i in range(ensemble_size):\n",
        "    print(f\"Training model {i+1}/{ensemble_size}\")\n",
        "    model = build_nn(X_train.shape[1])\n",
        "    model.fit(X_train, y_train, epochs=30, batch_size=64, validation_split=0.2, verbose=0)\n",
        "    ensemble_models.append(model)\n",
        "\n",
        "# Predict with ensemble\n",
        "def ensemble_predict(models, X):\n",
        "    preds = np.array([model.predict(X, verbose=0) for model in models])\n",
        "    pred_mean = preds.mean(axis=0)\n",
        "    pred_std = preds.std(axis=0)\n",
        "    return pred_mean, pred_std\n",
        "\n",
        "ensemble_mean, ensemble_std = ensemble_predict(ensemble_models, X_test)\n",
        "\n",
        "# Example: first 5 predictions\n",
        "for i in range(5):\n",
        "    print(f\"Predicted Probability: {ensemble_mean[i][0]:.4f}, Uncertainty: {ensemble_std[i][0]:.4f}\")"
      ],
      "metadata": {
        "colab": {
          "base_uri": "https://localhost:8080/"
        },
        "id": "3TNqyx-fbf2p",
        "outputId": "c6826931-45cc-49c1-d513-ad013806ec8d"
      },
      "execution_count": null,
      "outputs": [
        {
          "output_type": "stream",
          "name": "stdout",
          "text": [
            "Training model 1/5\n",
            "Training model 2/5\n",
            "Training model 3/5\n",
            "Training model 4/5\n",
            "Training model 5/5\n",
            "Predicted Probability: 1.0000, Uncertainty: 0.0000\n",
            "Predicted Probability: 1.0000, Uncertainty: 0.0000\n",
            "Predicted Probability: 0.9936, Uncertainty: 0.0119\n",
            "Predicted Probability: 0.9995, Uncertainty: 0.0004\n",
            "Predicted Probability: 0.0000, Uncertainty: 0.0000\n"
          ]
        }
      ]
    },
    {
      "cell_type": "markdown",
      "source": [
        "## 3rd technique - Variational Autoencoder (Anomaly Detection)"
      ],
      "metadata": {
        "id": "CL2yOHDFf_Nd"
      }
    },
    {
      "cell_type": "code",
      "source": [
        "from tensorflow.keras import layers, Model\n",
        "import tensorflow as tf\n",
        "import numpy as np\n",
        "\n",
        "input_dim = X_train.shape[1]\n",
        "latent_dim = 16\n",
        "\n",
        "# VAE Loss Layer\n",
        "class VAELossLayer(layers.Layer):\n",
        "    def call(self, inputs, outputs, z_mean, z_log_var):\n",
        "        reconstruction_loss = tf.reduce_mean(tf.square(inputs - outputs))\n",
        "        kl_loss = -0.5 * tf.reduce_mean(1 + z_log_var - tf.square(z_mean) - tf.exp(z_log_var))\n",
        "        vae_loss = reconstruction_loss + kl_loss\n",
        "        self.add_loss(vae_loss)\n",
        "        return outputs # Pass outputs through\n",
        "\n",
        "# Encoder\n",
        "inputs = layers.Input(shape=(input_dim,))\n",
        "h = layers.Dense(32, activation='relu')(inputs)\n",
        "z_mean = layers.Dense(latent_dim)(h)\n",
        "z_log_var = layers.Dense(latent_dim)(h)\n",
        "\n",
        "# Sampling function\n",
        "def sampling(args):\n",
        "    z_mean, z_log_var = args\n",
        "    epsilon = tf.random.normal(shape=(tf.shape(z_mean)[0], latent_dim))\n",
        "    return z_mean + tf.exp(0.5 * z_log_var) * epsilon\n",
        "\n",
        "z = layers.Lambda(sampling)([z_mean, z_log_var])\n",
        "\n",
        "# Decoder\n",
        "decoder_h = layers.Dense(32, activation='relu')\n",
        "decoder_out = layers.Dense(input_dim, activation='sigmoid')\n",
        "h_decoded = decoder_h(z)\n",
        "outputs = decoder_out(h_decoded)\n",
        "\n",
        "# Add VAE Loss Layer\n",
        "vae_loss_layer = VAELossLayer()\n",
        "outputs_with_loss = vae_loss_layer(inputs, outputs, z_mean, z_log_var)\n",
        "\n",
        "\n",
        "vae = Model(inputs, outputs_with_loss)\n",
        "\n",
        "vae.compile(optimizer='adam')\n",
        "\n",
        "# Train VAE\n",
        "vae.fit(X_train, X_train, epochs=50, batch_size=64, validation_split=0.2)\n",
        "\n",
        "# Compute reconstruction error on test set\n",
        "reconstructions = vae.predict(X_test)\n",
        "reconstruction_error = np.mean(np.square(X_test - reconstructions), axis=1)\n",
        "\n",
        "# Flag anomalies\n",
        "threshold = np.percentile(reconstruction_error, 95)  # top 5% errors\n",
        "anomalies = reconstruction_error > threshold\n",
        "print(\"Detected anomalies:\", np.sum(anomalies))"
      ],
      "metadata": {
        "colab": {
          "base_uri": "https://localhost:8080/"
        },
        "id": "g6z-CJxBd1qE",
        "outputId": "9d6df1fa-de67-4d6d-d2ff-f0f728f459bd"
      },
      "execution_count": null,
      "outputs": [
        {
          "output_type": "stream",
          "name": "stdout",
          "text": [
            "Epoch 1/50\n",
            "\u001b[1m1425/1425\u001b[0m \u001b[32m━━━━━━━━━━━━━━━━━━━━\u001b[0m\u001b[37m\u001b[0m \u001b[1m4s\u001b[0m 2ms/step - loss: 39.8467 - val_loss: 13.2328\n",
            "Epoch 2/50\n",
            "\u001b[1m1425/1425\u001b[0m \u001b[32m━━━━━━━━━━━━━━━━━━━━\u001b[0m\u001b[37m\u001b[0m \u001b[1m2s\u001b[0m 2ms/step - loss: 12.7115 - val_loss: 12.6541\n",
            "Epoch 3/50\n",
            "\u001b[1m1425/1425\u001b[0m \u001b[32m━━━━━━━━━━━━━━━━━━━━\u001b[0m\u001b[37m\u001b[0m \u001b[1m2s\u001b[0m 2ms/step - loss: 12.6649 - val_loss: 12.5729\n",
            "Epoch 4/50\n",
            "\u001b[1m1425/1425\u001b[0m \u001b[32m━━━━━━━━━━━━━━━━━━━━\u001b[0m\u001b[37m\u001b[0m \u001b[1m2s\u001b[0m 2ms/step - loss: 12.5431 - val_loss: 12.5345\n",
            "Epoch 5/50\n",
            "\u001b[1m1425/1425\u001b[0m \u001b[32m━━━━━━━━━━━━━━━━━━━━\u001b[0m\u001b[37m\u001b[0m \u001b[1m2s\u001b[0m 2ms/step - loss: 12.4992 - val_loss: 12.5032\n",
            "Epoch 6/50\n",
            "\u001b[1m1425/1425\u001b[0m \u001b[32m━━━━━━━━━━━━━━━━━━━━\u001b[0m\u001b[37m\u001b[0m \u001b[1m3s\u001b[0m 2ms/step - loss: 12.5340 - val_loss: 12.4815\n",
            "Epoch 7/50\n",
            "\u001b[1m1425/1425\u001b[0m \u001b[32m━━━━━━━━━━━━━━━━━━━━\u001b[0m\u001b[37m\u001b[0m \u001b[1m2s\u001b[0m 2ms/step - loss: 12.4897 - val_loss: 12.4667\n",
            "Epoch 8/50\n",
            "\u001b[1m1425/1425\u001b[0m \u001b[32m━━━━━━━━━━━━━━━━━━━━\u001b[0m\u001b[37m\u001b[0m \u001b[1m2s\u001b[0m 2ms/step - loss: 12.6855 - val_loss: 12.4555\n",
            "Epoch 9/50\n",
            "\u001b[1m1425/1425\u001b[0m \u001b[32m━━━━━━━━━━━━━━━━━━━━\u001b[0m\u001b[37m\u001b[0m \u001b[1m2s\u001b[0m 1ms/step - loss: 12.4336 - val_loss: 12.4477\n",
            "Epoch 10/50\n",
            "\u001b[1m1425/1425\u001b[0m \u001b[32m━━━━━━━━━━━━━━━━━━━━\u001b[0m\u001b[37m\u001b[0m \u001b[1m2s\u001b[0m 2ms/step - loss: 12.4384 - val_loss: 12.4441\n",
            "Epoch 11/50\n",
            "\u001b[1m1425/1425\u001b[0m \u001b[32m━━━━━━━━━━━━━━━━━━━━\u001b[0m\u001b[37m\u001b[0m \u001b[1m3s\u001b[0m 2ms/step - loss: 12.4491 - val_loss: 12.4379\n",
            "Epoch 12/50\n",
            "\u001b[1m1425/1425\u001b[0m \u001b[32m━━━━━━━━━━━━━━━━━━━━\u001b[0m\u001b[37m\u001b[0m \u001b[1m3s\u001b[0m 2ms/step - loss: 12.4200 - val_loss: 12.4333\n",
            "Epoch 13/50\n",
            "\u001b[1m1425/1425\u001b[0m \u001b[32m━━━━━━━━━━━━━━━━━━━━\u001b[0m\u001b[37m\u001b[0m \u001b[1m3s\u001b[0m 2ms/step - loss: 12.4168 - val_loss: 12.4314\n",
            "Epoch 14/50\n",
            "\u001b[1m1425/1425\u001b[0m \u001b[32m━━━━━━━━━━━━━━━━━━━━\u001b[0m\u001b[37m\u001b[0m \u001b[1m2s\u001b[0m 2ms/step - loss: 12.4726 - val_loss: 12.4302\n",
            "Epoch 15/50\n",
            "\u001b[1m1425/1425\u001b[0m \u001b[32m━━━━━━━━━━━━━━━━━━━━\u001b[0m\u001b[37m\u001b[0m \u001b[1m3s\u001b[0m 2ms/step - loss: 12.4438 - val_loss: 12.4287\n",
            "Epoch 16/50\n",
            "\u001b[1m1425/1425\u001b[0m \u001b[32m━━━━━━━━━━━━━━━━━━━━\u001b[0m\u001b[37m\u001b[0m \u001b[1m5s\u001b[0m 2ms/step - loss: 12.4966 - val_loss: 12.4256\n",
            "Epoch 17/50\n",
            "\u001b[1m1425/1425\u001b[0m \u001b[32m━━━━━━━━━━━━━━━━━━━━\u001b[0m\u001b[37m\u001b[0m \u001b[1m2s\u001b[0m 1ms/step - loss: 12.4750 - val_loss: 12.4260\n",
            "Epoch 18/50\n",
            "\u001b[1m1425/1425\u001b[0m \u001b[32m━━━━━━━━━━━━━━━━━━━━\u001b[0m\u001b[37m\u001b[0m \u001b[1m2s\u001b[0m 2ms/step - loss: 12.4753 - val_loss: 12.4244\n",
            "Epoch 19/50\n",
            "\u001b[1m1425/1425\u001b[0m \u001b[32m━━━━━━━━━━━━━━━━━━━━\u001b[0m\u001b[37m\u001b[0m \u001b[1m3s\u001b[0m 2ms/step - loss: 12.4155 - val_loss: 12.4230\n",
            "Epoch 20/50\n",
            "\u001b[1m1425/1425\u001b[0m \u001b[32m━━━━━━━━━━━━━━━━━━━━\u001b[0m\u001b[37m\u001b[0m \u001b[1m4s\u001b[0m 1ms/step - loss: 12.4013 - val_loss: 12.4220\n",
            "Epoch 21/50\n",
            "\u001b[1m1425/1425\u001b[0m \u001b[32m━━━━━━━━━━━━━━━━━━━━\u001b[0m\u001b[37m\u001b[0m \u001b[1m2s\u001b[0m 2ms/step - loss: 12.4747 - val_loss: 12.4230\n",
            "Epoch 22/50\n",
            "\u001b[1m1425/1425\u001b[0m \u001b[32m━━━━━━━━━━━━━━━━━━━━\u001b[0m\u001b[37m\u001b[0m \u001b[1m2s\u001b[0m 2ms/step - loss: 12.4520 - val_loss: 12.4225\n",
            "Epoch 23/50\n",
            "\u001b[1m1425/1425\u001b[0m \u001b[32m━━━━━━━━━━━━━━━━━━━━\u001b[0m\u001b[37m\u001b[0m \u001b[1m3s\u001b[0m 2ms/step - loss: 12.4889 - val_loss: 12.4218\n",
            "Epoch 24/50\n",
            "\u001b[1m1425/1425\u001b[0m \u001b[32m━━━━━━━━━━━━━━━━━━━━\u001b[0m\u001b[37m\u001b[0m \u001b[1m2s\u001b[0m 2ms/step - loss: 12.4252 - val_loss: 12.4211\n",
            "Epoch 25/50\n",
            "\u001b[1m1425/1425\u001b[0m \u001b[32m━━━━━━━━━━━━━━━━━━━━\u001b[0m\u001b[37m\u001b[0m \u001b[1m3s\u001b[0m 2ms/step - loss: 12.6123 - val_loss: 12.4216\n",
            "Epoch 26/50\n",
            "\u001b[1m1425/1425\u001b[0m \u001b[32m━━━━━━━━━━━━━━━━━━━━\u001b[0m\u001b[37m\u001b[0m \u001b[1m2s\u001b[0m 2ms/step - loss: 12.4179 - val_loss: 12.4211\n",
            "Epoch 27/50\n",
            "\u001b[1m1425/1425\u001b[0m \u001b[32m━━━━━━━━━━━━━━━━━━━━\u001b[0m\u001b[37m\u001b[0m \u001b[1m3s\u001b[0m 2ms/step - loss: 12.5470 - val_loss: 12.4202\n",
            "Epoch 28/50\n",
            "\u001b[1m1425/1425\u001b[0m \u001b[32m━━━━━━━━━━━━━━━━━━━━\u001b[0m\u001b[37m\u001b[0m \u001b[1m3s\u001b[0m 2ms/step - loss: 12.4663 - val_loss: 12.4212\n",
            "Epoch 29/50\n",
            "\u001b[1m1425/1425\u001b[0m \u001b[32m━━━━━━━━━━━━━━━━━━━━\u001b[0m\u001b[37m\u001b[0m \u001b[1m2s\u001b[0m 2ms/step - loss: 12.3586 - val_loss: 12.4211\n",
            "Epoch 30/50\n",
            "\u001b[1m1425/1425\u001b[0m \u001b[32m━━━━━━━━━━━━━━━━━━━━\u001b[0m\u001b[37m\u001b[0m \u001b[1m2s\u001b[0m 2ms/step - loss: 12.3870 - val_loss: 12.4200\n",
            "Epoch 31/50\n",
            "\u001b[1m1425/1425\u001b[0m \u001b[32m━━━━━━━━━━━━━━━━━━━━\u001b[0m\u001b[37m\u001b[0m \u001b[1m2s\u001b[0m 2ms/step - loss: 12.5378 - val_loss: 12.4193\n",
            "Epoch 32/50\n",
            "\u001b[1m1425/1425\u001b[0m \u001b[32m━━━━━━━━━━━━━━━━━━━━\u001b[0m\u001b[37m\u001b[0m \u001b[1m3s\u001b[0m 2ms/step - loss: 12.6382 - val_loss: 12.4188\n",
            "Epoch 33/50\n",
            "\u001b[1m1425/1425\u001b[0m \u001b[32m━━━━━━━━━━━━━━━━━━━━\u001b[0m\u001b[37m\u001b[0m \u001b[1m5s\u001b[0m 1ms/step - loss: 12.4346 - val_loss: 12.4190\n",
            "Epoch 34/50\n",
            "\u001b[1m1425/1425\u001b[0m \u001b[32m━━━━━━━━━━━━━━━━━━━━\u001b[0m\u001b[37m\u001b[0m \u001b[1m2s\u001b[0m 1ms/step - loss: 12.4418 - val_loss: 12.4188\n",
            "Epoch 35/50\n",
            "\u001b[1m1425/1425\u001b[0m \u001b[32m━━━━━━━━━━━━━━━━━━━━\u001b[0m\u001b[37m\u001b[0m \u001b[1m2s\u001b[0m 2ms/step - loss: 12.5241 - val_loss: 12.4193\n",
            "Epoch 36/50\n",
            "\u001b[1m1425/1425\u001b[0m \u001b[32m━━━━━━━━━━━━━━━━━━━━\u001b[0m\u001b[37m\u001b[0m \u001b[1m3s\u001b[0m 2ms/step - loss: 12.4650 - val_loss: 12.4188\n",
            "Epoch 37/50\n",
            "\u001b[1m1425/1425\u001b[0m \u001b[32m━━━━━━━━━━━━━━━━━━━━\u001b[0m\u001b[37m\u001b[0m \u001b[1m2s\u001b[0m 2ms/step - loss: 12.4684 - val_loss: 12.4196\n",
            "Epoch 38/50\n",
            "\u001b[1m1425/1425\u001b[0m \u001b[32m━━━━━━━━━━━━━━━━━━━━\u001b[0m\u001b[37m\u001b[0m \u001b[1m2s\u001b[0m 2ms/step - loss: 12.4840 - val_loss: 12.4190\n",
            "Epoch 39/50\n",
            "\u001b[1m1425/1425\u001b[0m \u001b[32m━━━━━━━━━━━━━━━━━━━━\u001b[0m\u001b[37m\u001b[0m \u001b[1m3s\u001b[0m 2ms/step - loss: 12.5474 - val_loss: 12.4177\n",
            "Epoch 40/50\n",
            "\u001b[1m1425/1425\u001b[0m \u001b[32m━━━━━━━━━━━━━━━━━━━━\u001b[0m\u001b[37m\u001b[0m \u001b[1m2s\u001b[0m 1ms/step - loss: 12.4603 - val_loss: 12.4176\n",
            "Epoch 41/50\n",
            "\u001b[1m1425/1425\u001b[0m \u001b[32m━━━━━━━━━━━━━━━━━━━━\u001b[0m\u001b[37m\u001b[0m \u001b[1m3s\u001b[0m 2ms/step - loss: 12.6710 - val_loss: 12.4172\n",
            "Epoch 42/50\n",
            "\u001b[1m1425/1425\u001b[0m \u001b[32m━━━━━━━━━━━━━━━━━━━━\u001b[0m\u001b[37m\u001b[0m \u001b[1m2s\u001b[0m 1ms/step - loss: 12.4650 - val_loss: 12.4192\n",
            "Epoch 43/50\n",
            "\u001b[1m1425/1425\u001b[0m \u001b[32m━━━━━━━━━━━━━━━━━━━━\u001b[0m\u001b[37m\u001b[0m \u001b[1m2s\u001b[0m 2ms/step - loss: 12.4024 - val_loss: 12.4181\n",
            "Epoch 44/50\n",
            "\u001b[1m1425/1425\u001b[0m \u001b[32m━━━━━━━━━━━━━━━━━━━━\u001b[0m\u001b[37m\u001b[0m \u001b[1m2s\u001b[0m 2ms/step - loss: 12.5289 - val_loss: 12.4178\n",
            "Epoch 45/50\n",
            "\u001b[1m1425/1425\u001b[0m \u001b[32m━━━━━━━━━━━━━━━━━━━━\u001b[0m\u001b[37m\u001b[0m \u001b[1m2s\u001b[0m 2ms/step - loss: 12.3726 - val_loss: 12.4177\n",
            "Epoch 46/50\n",
            "\u001b[1m1425/1425\u001b[0m \u001b[32m━━━━━━━━━━━━━━━━━━━━\u001b[0m\u001b[37m\u001b[0m \u001b[1m3s\u001b[0m 2ms/step - loss: 12.4460 - val_loss: 12.4179\n",
            "Epoch 47/50\n",
            "\u001b[1m1425/1425\u001b[0m \u001b[32m━━━━━━━━━━━━━━━━━━━━\u001b[0m\u001b[37m\u001b[0m \u001b[1m2s\u001b[0m 2ms/step - loss: 12.3677 - val_loss: 12.4178\n",
            "Epoch 48/50\n",
            "\u001b[1m1425/1425\u001b[0m \u001b[32m━━━━━━━━━━━━━━━━━━━━\u001b[0m\u001b[37m\u001b[0m \u001b[1m2s\u001b[0m 2ms/step - loss: 12.4949 - val_loss: 12.4169\n",
            "Epoch 49/50\n",
            "\u001b[1m1425/1425\u001b[0m \u001b[32m━━━━━━━━━━━━━━━━━━━━\u001b[0m\u001b[37m\u001b[0m \u001b[1m2s\u001b[0m 2ms/step - loss: 12.4175 - val_loss: 12.4177\n",
            "Epoch 50/50\n",
            "\u001b[1m1425/1425\u001b[0m \u001b[32m━━━━━━━━━━━━━━━━━━━━\u001b[0m\u001b[37m\u001b[0m \u001b[1m3s\u001b[0m 2ms/step - loss: 12.3630 - val_loss: 12.4166\n",
            "\u001b[1m891/891\u001b[0m \u001b[32m━━━━━━━━━━━━━━━━━━━━\u001b[0m\u001b[37m\u001b[0m \u001b[1m1s\u001b[0m 1ms/step\n",
            "Detected anomalies: 1425\n"
          ]
        }
      ]
    },
    {
      "cell_type": "code",
      "source": [
        "from sklearn.metrics import accuracy_score, precision_score, recall_score, f1_score, roc_auc_score\n",
        "\n",
        "# Binary classification threshold for MC Dropout & BNN\n",
        "y_pred_mc = (pred_mean > 0.5).astype(int)\n",
        "y_pred_ensemble = (ensemble_mean > 0.5).astype(int)\n",
        "\n",
        "# Evaluation\n",
        "def evaluate_model(y_true, y_pred):\n",
        "    print(\"Accuracy:\", accuracy_score(y_true, y_pred))\n",
        "    print(\"Precision:\", precision_score(y_true, y_pred))\n",
        "    print(\"Recall:\", recall_score(y_true, y_pred))\n",
        "    print(\"F1-Score:\", f1_score(y_true, y_pred))\n",
        "    print(\"ROC-AUC:\", roc_auc_score(y_true, y_pred))\n",
        "\n",
        "print(\"MC Dropout Evaluation:\")\n",
        "evaluate_model(y_test, y_pred_mc)\n",
        "\n",
        "print(\"\\nEnsemble NN Evaluation::\")\n",
        "evaluate_model(y_test, y_pred_ensemble)\n",
        "\n",
        "# Anomaly Detection evaluation\n",
        "y_test_anomaly = y_test  # 1 = fraud\n",
        "print(\"\\nVAE Anomaly Detection:\")\n",
        "print(\"Precision:\", precision_score(y_test_anomaly, anomalies))\n",
        "print(\"Recall:\", recall_score(y_test_anomaly, anomalies))\n",
        "print(\"F1-Score:\", f1_score(y_test_anomaly, anomalies))\n"
      ],
      "metadata": {
        "colab": {
          "base_uri": "https://localhost:8080/"
        },
        "id": "EtqnrSWWgJtI",
        "outputId": "84acfc70-b616-46ab-a528-c479129ea4a9"
      },
      "execution_count": null,
      "outputs": [
        {
          "output_type": "stream",
          "name": "stdout",
          "text": [
            "MC Dropout Evaluation:\n",
            "Accuracy: 0.9995436675091266\n",
            "Precision: 0.9990917982394858\n",
            "Recall: 1.0\n",
            "F1-Score: 0.9995456928184518\n",
            "ROC-AUC: 0.9995418340734475\n",
            "\n",
            "Ensemble NN Evaluation::\n",
            "Accuracy: 0.9998946925021062\n",
            "Precision: 0.9997902684563759\n",
            "Recall: 1.0\n",
            "F1-Score: 0.9998951232302045\n",
            "ROC-AUC: 0.9998942694015649\n",
            "\n",
            "VAE Anomaly Detection:\n",
            "Precision: 0.9957894736842106\n",
            "Recall: 0.09922383050136355\n",
            "F1-Score: 0.1804654711942007\n"
          ]
        }
      ]
    },
    {
      "cell_type": "code",
      "source": [
        "import matplotlib.pyplot as plt\n",
        "\n",
        "plt.figure(figsize=(10,5))\n",
        "plt.hist(pred_std, bins=50, alpha=0.7)\n",
        "plt.title(\"MC Dropout Predictive Uncertainty\")\n",
        "plt.xlabel(\"Standard Deviation\")\n",
        "plt.ylabel(\"Count\")\n",
        "plt.show()"
      ],
      "metadata": {
        "colab": {
          "base_uri": "https://localhost:8080/",
          "height": 487
        },
        "id": "EGyUH2CDhh0v",
        "outputId": "cdd69855-9723-4da7-b058-7fb59f20bed6"
      },
      "execution_count": null,
      "outputs": [
        {
          "output_type": "display_data",
          "data": {
            "text/plain": [
              "<Figure size 1000x500 with 1 Axes>"
            ],
            "image/png": "[encoded data removed]"
          },
          "metadata": {}
        }
      ]
    },
    {
      "cell_type": "code",
      "source": [
        "import matplotlib.pyplot as plt\n",
        "\n",
        "plt.figure(figsize=(10,5))\n",
        "plt.hist(ensemble_std, bins=50, alpha=0.7, color='skyblue', edgecolor='black')\n",
        "plt.title(\"Ensemble NN Predictive Uncertainty\")\n",
        "plt.xlabel(\"Standard Deviation (Uncertainty)\")\n",
        "plt.ylabel(\"Count\")\n",
        "plt.show()"
      ],
      "metadata": {
        "colab": {
          "base_uri": "https://localhost:8080/",
          "height": 487
        },
        "id": "4FcQcFkAhzSg",
        "outputId": "ec34290e-8d50-4015-9f38-fc8eff6f19b8"
      },
      "execution_count": null,
      "outputs": [
        {
          "output_type": "display_data",
          "data": {
            "text/plain": [
              "<Figure size 1000x500 with 1 Axes>"
            ],
            "image/png": "[encoded data removed]"
          },
          "metadata": {}
        }
      ]
    },
    {
      "cell_type": "code",
      "source": [
        "plt.figure(figsize=(10,5))\n",
        "plt.hist(reconstruction_error, bins=50, alpha=0.7, color='salmon', edgecolor='black')\n",
        "plt.title(\"VAE Reconstruction Error\")\n",
        "plt.xlabel(\"Reconstruction Error\")\n",
        "plt.ylabel(\"Count\")\n",
        "plt.show()"
      ],
      "metadata": {
        "colab": {
          "base_uri": "https://localhost:8080/",
          "height": 487
        },
        "id": "SvU9UbAJh9cY",
        "outputId": "3c8e87f7-4561-4e0b-8190-52c33ce3a37e"
      },
      "execution_count": null,
      "outputs": [
        {
          "output_type": "display_data",
          "data": {
            "text/plain": [
              "<Figure size 1000x500 with 1 Axes>"
            ],
            "image/png": "[encoded data removed]"
          },
          "metadata": {}
        }
      ]
    },
    {
      "cell_type": "code",
      "source": [],
      "metadata": {
        "id": "H918XXzZiAaT"
      },
      "execution_count": null,
      "outputs": []
    }
  ]
}